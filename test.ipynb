{
 "cells": [
  {
   "cell_type": "code",
   "execution_count": null,
   "metadata": {},
   "outputs": [],
   "source": [
    "import os \n",
    "import psycopg2\n",
    "db_host = os.getenv(\"DB_HOST\")\n",
    "db_port = os.getenv(\"DB_PORT\")\n",
    "db_name = os.getenv(\"DB_NAME\")\n",
    "db_user = os.getenv(\"DB_USER\")\n",
    "db_password = os.getenv(\"MY_DB_PASSWORD\")\n",
    "print(f\"Host: {db_host}, Port: {db_port}, Name: {db_name}, User: {db_user}\")\n",
    "\n",
    "\n",
    "conn = psycopg2.connect(\n",
    "    host=db_host,\n",
    "    port=db_port,\n",
    "    database=db_name,\n",
    "    user=db_user,\n",
    "    password=db_password\n",
    ")"
   ]
  },
  {
   "cell_type": "code",
   "execution_count": 9,
   "metadata": {},
   "outputs": [
    {
     "name": "stdout",
     "output_type": "stream",
     "text": [
      "Host: hanslab.org, Port: 25432, Name: digital_zoo_pj_2, User: postgres\n",
      "Connection to PostgreSQL database successful!\n",
      "Connection closed.\n"
     ]
    }
   ],
   "source": [
    "import os\n",
    "import psycopg2\n",
    "import dotenv\n",
    "dotenv.load_dotenv()\n",
    "\n",
    "def connect_to_postgres():\n",
    "  # Get database credentials from environment variables\n",
    "  db_host = os.getenv(\"DB_HOST\")\n",
    "  db_port = os.getenv(\"DB_PORT\")\n",
    "  db_name = os.getenv(\"DB_NAME\")\n",
    "  db_user = os.getenv(\"DB_USER\")\n",
    "  db_password = os.getenv(\"MY_DB_PASSWORD\")\n",
    "\n",
    "  # Print connection details (for verification purposes)\n",
    "  print(f\"Host: {db_host}, Port: {db_port}, Name: {db_name}, User: {db_user}\")\n",
    "\n",
    "  try:\n",
    "    # Connect to the PostgreSQL database\n",
    "    conn = psycopg2.connect(\n",
    "        host=db_host,\n",
    "        port=db_port,\n",
    "        database=db_name,\n",
    "        user=db_user,\n",
    "        password=db_password\n",
    "    )\n",
    "\n",
    "    # Print a success message\n",
    "    print(\"Connection to PostgreSQL database successful!\")\n",
    "    return conn  # Return the connection object\n",
    "\n",
    "  except (Exception, psycopg2.Error) as error:\n",
    "    # Print an error message if connection fails\n",
    "    print(\"Error while connecting to PostgreSQL\", error)\n",
    "    return None  # Return None if connection fails\n",
    "\n",
    "# Connect to the database\n",
    "conn = connect_to_postgres()\n",
    "\n",
    "# Close the connection (if it was successful)\n",
    "if conn:\n",
    "  conn.close()\n",
    "  print(\"Connection closed.\")\n"
   ]
  },
  {
   "cell_type": "code",
   "execution_count": 8,
   "metadata": {},
   "outputs": [
    {
     "name": "stdout",
     "output_type": "stream",
     "text": [
      ".env file loaded successfully!\n",
      "DB_HOST: hanslab.org\n",
      "DB_PORT: 25432\n",
      "DB_NAME: digital_zoo_pj_2\n",
      "DB_USER: postgres\n",
      "DB_PASSWORD: G=nf_-}EKl\n"
     ]
    }
   ],
   "source": [
    "import os\n",
    "import dotenv\n",
    "\n",
    "# Load environment variables from .env file\n",
    "dotenv.load_dotenv()\n",
    "\n",
    "# Check if required variables are loaded\n",
    "db_host = os.getenv(\"DB_HOST\")\n",
    "db_port = os.getenv(\"DB_PORT\")\n",
    "db_name = os.getenv(\"DB_NAME\")\n",
    "db_user = os.getenv(\"DB_USER\")\n",
    "db_password = os.getenv(\"DB_PASSWORD\")\n",
    "\n",
    "if all([db_host, db_port, db_name, db_user, db_password]):\n",
    "  print(\".env file loaded successfully!\")\n",
    "  # Print loaded values for verification (optional)\n",
    "  print(f\"DB_HOST: {db_host}\")\n",
    "  print(f\"DB_PORT: {db_port}\")\n",
    "  print(f\"DB_NAME: {db_name}\")\n",
    "  print(f\"DB_USER: {db_user}\")\n",
    "  print(f\"DB_PASSWORD: {db_password}\")\n",
    "else:\n",
    "  print(\"Error: Required variables from .env file are missing.\")\n",
    "  # List missing variables (optional)\n",
    "  missing_vars = [var for var in [\"DB_HOST\", \"DB_PORT\", \"DB_NAME\", \"DB_USER\", \"DB_PASSWORD\"] if not os.getenv(var)]\n",
    "  if missing_vars:\n",
    "    print(f\"Missing variables: {', '.join(missing_vars)}\")\n"
   ]
  }
 ],
 "metadata": {
  "kernelspec": {
   "display_name": "django",
   "language": "python",
   "name": "python3"
  },
  "language_info": {
   "codemirror_mode": {
    "name": "ipython",
    "version": 3
   },
   "file_extension": ".py",
   "mimetype": "text/x-python",
   "name": "python",
   "nbconvert_exporter": "python",
   "pygments_lexer": "ipython3",
   "version": "3.10.14"
  }
 },
 "nbformat": 4,
 "nbformat_minor": 2
}
